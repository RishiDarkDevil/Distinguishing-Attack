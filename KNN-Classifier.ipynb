{
 "cells": [
  {
   "cell_type": "markdown",
   "id": "cc0622b6",
   "metadata": {},
   "source": [
    "### Import Necessary Libraries"
   ]
  },
  {
   "cell_type": "code",
   "execution_count": 8,
   "id": "856b6b75",
   "metadata": {},
   "outputs": [],
   "source": [
    "import pandas as pd\n",
    "import numpy as np\n",
    "\n",
    "import binascii"
   ]
  },
  {
   "cell_type": "markdown",
   "id": "063cdb15",
   "metadata": {},
   "source": [
    "## Load Data"
   ]
  },
  {
   "cell_type": "markdown",
   "id": "ce31dac7",
   "metadata": {},
   "source": [
    "We load the data below which contains:\n",
    "- `CID`: Serial Number\n",
    "- `Text`: Cipher Text\n",
    "- `class`: The label"
   ]
  },
  {
   "cell_type": "code",
   "execution_count": 2,
   "id": "4607e0ed",
   "metadata": {},
   "outputs": [
    {
     "data": {
      "text/html": [
       "<div>\n",
       "<style scoped>\n",
       "    .dataframe tbody tr th:only-of-type {\n",
       "        vertical-align: middle;\n",
       "    }\n",
       "\n",
       "    .dataframe tbody tr th {\n",
       "        vertical-align: top;\n",
       "    }\n",
       "\n",
       "    .dataframe thead th {\n",
       "        text-align: right;\n",
       "    }\n",
       "</style>\n",
       "<table border=\"1\" class=\"dataframe\">\n",
       "  <thead>\n",
       "    <tr style=\"text-align: right;\">\n",
       "      <th></th>\n",
       "      <th>CID</th>\n",
       "      <th>Text</th>\n",
       "      <th>class</th>\n",
       "    </tr>\n",
       "  </thead>\n",
       "  <tbody>\n",
       "    <tr>\n",
       "      <th>0</th>\n",
       "      <td>0</td>\n",
       "      <td>3fa9e6ac4a36c66b8ca3887914c6c75b08dad9095f1d7a...</td>\n",
       "      <td>3</td>\n",
       "    </tr>\n",
       "    <tr>\n",
       "      <th>1</th>\n",
       "      <td>1</td>\n",
       "      <td>21b7f56f644f02d51ae82c9d50f69fad686319657712d4...</td>\n",
       "      <td>2</td>\n",
       "    </tr>\n",
       "    <tr>\n",
       "      <th>2</th>\n",
       "      <td>2</td>\n",
       "      <td>74203af11b8bbb1d31ac34e85f3076588fbbf2dcf1a4f7...</td>\n",
       "      <td>3</td>\n",
       "    </tr>\n",
       "    <tr>\n",
       "      <th>3</th>\n",
       "      <td>3</td>\n",
       "      <td>6b412e99f1dea02c124a90b5f2cf29496cb84f2b2b33a0...</td>\n",
       "      <td>1</td>\n",
       "    </tr>\n",
       "    <tr>\n",
       "      <th>4</th>\n",
       "      <td>4</td>\n",
       "      <td>5b84fb6fc7710b0e499394d9b406950d2436a118e2d867...</td>\n",
       "      <td>1</td>\n",
       "    </tr>\n",
       "    <tr>\n",
       "      <th>...</th>\n",
       "      <td>...</td>\n",
       "      <td>...</td>\n",
       "      <td>...</td>\n",
       "    </tr>\n",
       "    <tr>\n",
       "      <th>79995</th>\n",
       "      <td>79995</td>\n",
       "      <td>888216a483866a9020360c92348576ea8b2dea8291422b...</td>\n",
       "      <td>2</td>\n",
       "    </tr>\n",
       "    <tr>\n",
       "      <th>79996</th>\n",
       "      <td>79996</td>\n",
       "      <td>7087c314dd336654d5a0dd4bff761a8a631bc3b58119f6...</td>\n",
       "      <td>3</td>\n",
       "    </tr>\n",
       "    <tr>\n",
       "      <th>79997</th>\n",
       "      <td>79997</td>\n",
       "      <td>391b30539b56b3236ce468b46e39eaf51945f7306b3fd4...</td>\n",
       "      <td>0</td>\n",
       "    </tr>\n",
       "    <tr>\n",
       "      <th>79998</th>\n",
       "      <td>79998</td>\n",
       "      <td>c8a58f604a35afad7a47d2b87f111c643374dfe15c7ef3...</td>\n",
       "      <td>0</td>\n",
       "    </tr>\n",
       "    <tr>\n",
       "      <th>79999</th>\n",
       "      <td>79999</td>\n",
       "      <td>4c25a945815e9767b62ebd463139234e7a58266b369f2a...</td>\n",
       "      <td>0</td>\n",
       "    </tr>\n",
       "  </tbody>\n",
       "</table>\n",
       "<p>80000 rows × 3 columns</p>\n",
       "</div>"
      ],
      "text/plain": [
       "         CID                                               Text  class\n",
       "0          0  3fa9e6ac4a36c66b8ca3887914c6c75b08dad9095f1d7a...      3\n",
       "1          1  21b7f56f644f02d51ae82c9d50f69fad686319657712d4...      2\n",
       "2          2  74203af11b8bbb1d31ac34e85f3076588fbbf2dcf1a4f7...      3\n",
       "3          3  6b412e99f1dea02c124a90b5f2cf29496cb84f2b2b33a0...      1\n",
       "4          4  5b84fb6fc7710b0e499394d9b406950d2436a118e2d867...      1\n",
       "...      ...                                                ...    ...\n",
       "79995  79995  888216a483866a9020360c92348576ea8b2dea8291422b...      2\n",
       "79996  79996  7087c314dd336654d5a0dd4bff761a8a631bc3b58119f6...      3\n",
       "79997  79997  391b30539b56b3236ce468b46e39eaf51945f7306b3fd4...      0\n",
       "79998  79998  c8a58f604a35afad7a47d2b87f111c643374dfe15c7ef3...      0\n",
       "79999  79999  4c25a945815e9767b62ebd463139234e7a58266b369f2a...      0\n",
       "\n",
       "[80000 rows x 3 columns]"
      ]
     },
     "execution_count": 2,
     "metadata": {},
     "output_type": "execute_result"
    }
   ],
   "source": [
    "data = pd.read_csv('./Data/TrainingData.csv')\n",
    "data"
   ]
  },
  {
   "cell_type": "markdown",
   "id": "95fb3863",
   "metadata": {},
   "source": [
    "Let's get a hold the `Text` i.e. X column and the labels i.e. `class` (y)"
   ]
  },
  {
   "cell_type": "code",
   "execution_count": 6,
   "id": "f6ba893d",
   "metadata": {},
   "outputs": [],
   "source": [
    "train_x = data[['Text']].to_numpy()\n",
    "train_y = data[['class']].to_numpy()"
   ]
  },
  {
   "cell_type": "markdown",
   "id": "9a55e779",
   "metadata": {},
   "source": [
    "## Data Preparation"
   ]
  },
  {
   "cell_type": "markdown",
   "id": "8c4fb770",
   "metadata": {},
   "source": [
    "The `hex_to_bin` is a dictionary which contains all the hex characters and their respective binary representation."
   ]
  },
  {
   "cell_type": "code",
   "execution_count": 26,
   "id": "5c39cc0d",
   "metadata": {},
   "outputs": [],
   "source": [
    "hex_to_bin = {\n",
    "  hex(dec).split('x')[-1]:bin(int(hex(dec).split('x')[-1], 16))[2:].zfill(4) for dec in range(16)\n",
    "}"
   ]
  },
  {
   "cell_type": "markdown",
   "id": "5840fdbc",
   "metadata": {},
   "source": [
    "We will convert each cipher text into it's corresponding binary form to get our new training data."
   ]
  },
  {
   "cell_type": "code",
   "execution_count": 37,
   "id": "fd95d2f8",
   "metadata": {},
   "outputs": [],
   "source": [
    "train_x_bin = np.array([''.join([hex_to_bin[ch] for ch in text]) for text in np.squeeze(train_x)])"
   ]
  },
  {
   "cell_type": "code",
   "execution_count": 40,
   "id": "06b5680d",
   "metadata": {},
   "outputs": [
    {
     "data": {
      "text/html": [
       "<div>\n",
       "<style scoped>\n",
       "    .dataframe tbody tr th:only-of-type {\n",
       "        vertical-align: middle;\n",
       "    }\n",
       "\n",
       "    .dataframe tbody tr th {\n",
       "        vertical-align: top;\n",
       "    }\n",
       "\n",
       "    .dataframe thead th {\n",
       "        text-align: right;\n",
       "    }\n",
       "</style>\n",
       "<table border=\"1\" class=\"dataframe\">\n",
       "  <thead>\n",
       "    <tr style=\"text-align: right;\">\n",
       "      <th></th>\n",
       "      <th>BinText</th>\n",
       "    </tr>\n",
       "  </thead>\n",
       "  <tbody>\n",
       "    <tr>\n",
       "      <th>0</th>\n",
       "      <td>0011111110101001111001101010110001001010001101...</td>\n",
       "    </tr>\n",
       "    <tr>\n",
       "      <th>1</th>\n",
       "      <td>0010000110110111111101010110111101100100010011...</td>\n",
       "    </tr>\n",
       "    <tr>\n",
       "      <th>2</th>\n",
       "      <td>0111010000100000001110101111000100011011100010...</td>\n",
       "    </tr>\n",
       "    <tr>\n",
       "      <th>3</th>\n",
       "      <td>0110101101000001001011101001100111110001110111...</td>\n",
       "    </tr>\n",
       "    <tr>\n",
       "      <th>4</th>\n",
       "      <td>0101101110000100111110110110111111000111011100...</td>\n",
       "    </tr>\n",
       "    <tr>\n",
       "      <th>...</th>\n",
       "      <td>...</td>\n",
       "    </tr>\n",
       "    <tr>\n",
       "      <th>79995</th>\n",
       "      <td>1000100010000010000101101010010010000011100001...</td>\n",
       "    </tr>\n",
       "    <tr>\n",
       "      <th>79996</th>\n",
       "      <td>0111000010000111110000110001010011011101001100...</td>\n",
       "    </tr>\n",
       "    <tr>\n",
       "      <th>79997</th>\n",
       "      <td>0011100100011011001100000101001110011011010101...</td>\n",
       "    </tr>\n",
       "    <tr>\n",
       "      <th>79998</th>\n",
       "      <td>1100100010100101100011110110000001001010001101...</td>\n",
       "    </tr>\n",
       "    <tr>\n",
       "      <th>79999</th>\n",
       "      <td>0100110000100101101010010100010110000001010111...</td>\n",
       "    </tr>\n",
       "  </tbody>\n",
       "</table>\n",
       "<p>80000 rows × 1 columns</p>\n",
       "</div>"
      ],
      "text/plain": [
       "                                                 BinText\n",
       "0      0011111110101001111001101010110001001010001101...\n",
       "1      0010000110110111111101010110111101100100010011...\n",
       "2      0111010000100000001110101111000100011011100010...\n",
       "3      0110101101000001001011101001100111110001110111...\n",
       "4      0101101110000100111110110110111111000111011100...\n",
       "...                                                  ...\n",
       "79995  1000100010000010000101101010010010000011100001...\n",
       "79996  0111000010000111110000110001010011011101001100...\n",
       "79997  0011100100011011001100000101001110011011010101...\n",
       "79998  1100100010100101100011110110000001001010001101...\n",
       "79999  0100110000100101101010010100010110000001010111...\n",
       "\n",
       "[80000 rows x 1 columns]"
      ]
     },
     "execution_count": 40,
     "metadata": {},
     "output_type": "execute_result"
    }
   ],
   "source": [
    "pd.DataFrame({'BinText':train_x_bin})"
   ]
  },
  {
   "cell_type": "code",
   "execution_count": null,
   "id": "577b3715",
   "metadata": {},
   "outputs": [],
   "source": []
  }
 ],
 "metadata": {
  "kernelspec": {
   "display_name": "Python 3 (ipykernel)",
   "language": "python",
   "name": "python3"
  },
  "language_info": {
   "codemirror_mode": {
    "name": "ipython",
    "version": 3
   },
   "file_extension": ".py",
   "mimetype": "text/x-python",
   "name": "python",
   "nbconvert_exporter": "python",
   "pygments_lexer": "ipython3",
   "version": "3.8.15"
  }
 },
 "nbformat": 4,
 "nbformat_minor": 5
}
